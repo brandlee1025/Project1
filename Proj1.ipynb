{
 "cells": [
  {
   "cell_type": "markdown",
   "metadata": {},
   "source": [
    "# Import Packages"
   ]
  },
  {
   "cell_type": "code",
   "execution_count": 1,
   "metadata": {
    "collapsed": true
   },
   "outputs": [],
   "source": [
    "#importing some useful packages\n",
    "import matplotlib.pyplot as plt\n",
    "import matplotlib.image as mpimg\n",
    "import numpy as np\n",
    "import cv2\n",
    "%matplotlib inline\n",
    "import math "
   ]
  },
  {
   "cell_type": "markdown",
   "metadata": {},
   "source": [
    "# Define Functions "
   ]
  },
  {
   "cell_type": "code",
   "execution_count": 2,
   "metadata": {
    "collapsed": true
   },
   "outputs": [],
   "source": [
    "import math\n",
    "\n",
    "def median(lst):\n",
    "    return np.median(np.array(lst)) \n",
    "\n",
    "def grayscale(img):\n",
    "    \"\"\"Applies the Grayscale transform\n",
    "    This will return an image with only one color channel\n",
    "    but NOTE: to see the returned image as grayscale\n",
    "    (assuming your grayscaled image is called 'gray')\n",
    "    you should call plt.imshow(gray, cmap='gray')\"\"\"\n",
    "    return cv2.cvtColor(img, cv2.COLOR_RGB2GRAY)\n",
    "    # Or use BGR2GRAY if you read an image with cv2.imread()\n",
    "    # return cv2.cvtColor(img, cv2.COLOR_BGR2GRAY)\n",
    "    \n",
    "def canny(img, low_threshold, high_threshold):\n",
    "    \"\"\"Applies the Canny transform\"\"\"\n",
    "    return cv2.Canny(img, low_threshold, high_threshold)\n",
    "\n",
    "def gaussian_blur(img, kernel_size):\n",
    "    \"\"\"Applies a Gaussian Noise kernel\"\"\"\n",
    "    return cv2.GaussianBlur(img, (kernel_size, kernel_size), 0)\n",
    "\n",
    "def region_of_interest(img, vertices):\n",
    "    \"\"\"\n",
    "    Applies an image mask.\n",
    "    \n",
    "    Only keeps the region of the image defined by the polygon\n",
    "    formed from `vertices`. The rest of the image is set to black.\n",
    "    \"\"\"\n",
    "    #defining a blank mask to start with\n",
    "    mask = np.zeros_like(img)   \n",
    "    \n",
    "    #defining a 3 channel or 1 channel color to fill the mask with depending on the input image\n",
    "    if len(img.shape) > 2:\n",
    "        channel_count = img.shape[2]  # i.e. 3 or 4 depending on your image\n",
    "        ignore_mask_color = (255,) * channel_count\n",
    "    else:\n",
    "        ignore_mask_color = 255\n",
    "        \n",
    "    #filling pixels inside the polygon defined by \"vertices\" with the fill color    \n",
    "    cv2.fillPoly(mask, vertices, ignore_mask_color)\n",
    "    \n",
    "    #returning the image only where mask pixels are nonzero\n",
    "    masked_image = cv2.bitwise_and(img, mask)\n",
    "    return masked_image\n",
    "\n",
    "\n",
    "def draw_lines(img, lines, color=[255, 0, 0], thickness=2):\n",
    "    \"\"\"\n",
    "    NOTE: this is the function you might want to use as a starting point once you want to \n",
    "    average/extrapolate the line segments you detect to map out the full\n",
    "    extent of the lane (going from the result shown in raw-lines-example.mp4\n",
    "    to that shown in P1_example.mp4).  \n",
    "    \n",
    "    Think about things like separating line segments by their \n",
    "    slope ((y2-y1)/(x2-x1)) to decide which segments are part of the left\n",
    "    line vs. the right line.  Then, you can average the position of each of \n",
    "    the lines and extrapolate to the top and bottom of the lane.\n",
    "    \n",
    "    This function draws `lines` with `color` and `thickness`.    \n",
    "    Lines are drawn on the image inplace (mutates the image).\n",
    "    If you want to make the lines semi-transparent, think about combining\n",
    "    this function with the weighted_img() function below\n",
    "    \"\"\"\n",
    "    for line in lines:\n",
    "        for x1,y1,x2,y2 in line:\n",
    "            cv2.line(img, (x1, y1), (x2, y2), color, thickness)\n",
    "\n",
    "def Avg_Exp_lines(img, lines, color=[0, 255, 0], thickness=5) :\n",
    "    \"\"\"\n",
    "    polyfit + extrapolation\n",
    "    \"\"\"\n",
    "    \n",
    "    Y_pixels = img.shape[0]\n",
    "    X_pixels = img.shape[1]\n",
    "    \n",
    "    xR = []\n",
    "    yR = []\n",
    "    mR = []\n",
    "    xL = []\n",
    "    yL = []\n",
    "    mL = []\n",
    "    for line in lines:\n",
    "        for x1,y1,x2,y2 in line:\n",
    "            slope = ((y2-y1)/(x2-x1)) \n",
    "            if slope > 0 and x1>X_pixels/2 and x2>X_pixels/2 :  # right line (opposite to Cartesian)\n",
    "                xR.extend((x1,x2))\n",
    "                yR.extend((y1,y2))\n",
    "                mR.extend([slope])\n",
    "            elif slope < 0 and x1<X_pixels/2 and x2<X_pixels/2 :\n",
    "                xL.extend((x1,x2))\n",
    "                yL.extend((y1,y2))\n",
    "                mL.extend([slope])\n",
    "    \n",
    "    R_fit = np.polyfit(xR,yR,1)\n",
    "    L_fit = np.polyfit(xL,yL,1)\n",
    "    \n",
    "    mR_fit = R_fit[0]\n",
    "    cR_fit = R_fit[1]\n",
    "    mL_fit = L_fit[0]\n",
    "    cL_fit = L_fit[1]\n",
    "    \n",
    "    xRmin,xRmax = min(xR), max(xR) \n",
    "    xLmin,xLmax = min(xL), max(xL)\n",
    "    \n",
    "    yRmax = int(xRmax*mR_fit+cR_fit)\n",
    "    yRmin = int(xRmin*mR_fit+cR_fit)\n",
    "    \n",
    "    if yRmax < Y_pixels -10:\n",
    "        yRmax = Y_pixels\n",
    "        xRmax = int((yRmax-cR_fit)/mR_fit)\n",
    "    if yRmin > Y_pixels/2:\n",
    "        yRmin = int(Y_pixels/2+55)\n",
    "        xRmin = int((yRmin-cR_fit)/mR_fit)\n",
    "    \n",
    "    yLmax = int(xLmin*mL_fit+cL_fit) \n",
    "    yLmin = int(xLmax*mL_fit+cL_fit)\n",
    "    \n",
    "    if yLmax < Y_pixels -10:\n",
    "        yLmax = Y_pixels\n",
    "        xLmin = int((yLmax-cL_fit)/mL_fit)\n",
    "    if yLmin > Y_pixels/2:\n",
    "        yLmin = int(Y_pixels/2+55)\n",
    "        xLmax = int((yLmin-cL_fit)/mL_fit)\n",
    "        \n",
    "    line_img2 = np.zeros((img.shape[0], img.shape[1], 3), dtype=np.uint8)\n",
    "    \n",
    "    cv2.line(line_img2, (xRmin, yRmin), (xRmax, yRmax), color, thickness)\n",
    "    \n",
    "    cv2.line(line_img2, (xLmin, yLmax), (xLmax, yLmin), color, thickness)\n",
    "    \n",
    "    return line_img2\n",
    "    \n",
    "def hough_lines(img, rho, theta, threshold, min_line_len, max_line_gap):\n",
    "    \"\"\"\n",
    "    `img` should be the output of a Canny transform.\n",
    "        \n",
    "    Returns an image with hough lines drawn.\n",
    "    \"\"\"\n",
    "    lines = cv2.HoughLinesP(img, rho, theta, threshold, np.array([]), minLineLength=min_line_len, maxLineGap=max_line_gap)\n",
    "    line_img = np.zeros((img.shape[0], img.shape[1], 3), dtype=np.uint8)\n",
    "    draw_lines(line_img, lines)\n",
    "    return line_img, lines\n",
    "\n",
    "# Python 3 has support for cool math symbols.\n",
    "\n",
    "def weighted_img(img, initial_img, α=0.8, β=1., λ=0.):\n",
    "    \"\"\"\n",
    "    `img` is the output of the hough_lines(), An image with lines drawn on it.\n",
    "    Should be a blank image (all black) with lines drawn on it.\n",
    "    \n",
    "    `initial_img` should be the image before any processing.\n",
    "    \n",
    "    The result image is computed as follows:\n",
    "    \n",
    "    initial_img * α + img * β + λ\n",
    "    NOTE: initial_img and img must be the same shape!\n",
    "    \"\"\"\n",
    "    return cv2.addWeighted(initial_img, α, img, β, λ)\n",
    "\n",
    "def process_all_image(instant_image):\n",
    "    # NOTE: The output you return should be a color image (3 channel) for processing video below\n",
    "    # TODO: put your pipeline here,\n",
    "    # you should return the final output (image where lines are drawn on lanes)\n",
    "    \n",
    "    # Define grsyscale image\n",
    "    gray = grayscale(instant_image)\n",
    "\n",
    "    # Define a kernel size and apply Gaussian smoothing\n",
    "    # kernel_size = 5\n",
    "    blur_gray = gaussian_blur(gray,kernel_size)\n",
    "    \n",
    "    # Define our parameters for Canny and apply\n",
    "    edges = canny(blur_gray, low_threshold, high_threshold)\n",
    "    \n",
    "    #vertices = np.array([[(0,imshape[0]),(imshape[1]/2-small_x, imshape[0]/2+small_y), (imshape[1]/2+small_x, imshape[0]/2+small_y), (imshape[1],imshape[0])]], dtype=np.int32)\n",
    "    masked = region_of_interest(edges,vertices)\n",
    "    \n",
    "    H_image, H_lines = hough_lines(masked, rho, theta, threshold, min_line_len, max_line_gap)\n",
    "    \n",
    "    H_image2 = Avg_Exp_lines(masked, H_lines)\n",
    "    \n",
    "    final_img = weighted_img(H_image, instant_image, α=0.8, β=1., λ=0.)\n",
    "    final_img2 = weighted_img(H_image2, instant_image, α=0.8, β=1., λ=0.)\n",
    "    \n",
    "    return blur_gray, edges, masked, H_image, final_img, final_img2\n",
    "\n",
    "def process_image(instant_image):\n",
    "    # NOTE: The output you return should be a color image (3 channel) for processing video below\n",
    "    # TODO: put your pipeline here,\n",
    "    # you should return the final output (image where lines are drawn on lanes)\n",
    "    \n",
    "    # Define grsyscale image\n",
    "    gray = grayscale(instant_image)\n",
    "\n",
    "    # Define a kernel size and apply Gaussian smoothing\n",
    "    # kernel_size = 5\n",
    "    blur_gray = gaussian_blur(gray,kernel_size)\n",
    "    \n",
    "    # Define our parameters for Canny and apply\n",
    "    edges = canny(blur_gray, low_threshold, high_threshold)\n",
    "    \n",
    "    #vertices = np.array([[(0,imshape[0]),(imshape[1]/2-small_x, imshape[0]/2+small_y), (imshape[1]/2+small_x, imshape[0]/2+small_y), (imshape[1],imshape[0])]], dtype=np.int32)\n",
    "    masked = region_of_interest(edges,vertices)\n",
    "    \n",
    "    H_image, H_lines = hough_lines(masked, rho, theta, threshold, min_line_len, max_line_gap)\n",
    "    \n",
    "    H_image2 = Avg_Exp_lines(masked, H_lines)\n",
    "    \n",
    "    final_img2 = weighted_img(H_image2, instant_image, α=0.8, β=1., λ=0.)\n",
    "    \n",
    "    return final_img2"
   ]
  },
  {
   "cell_type": "markdown",
   "metadata": {},
   "source": [
    "# Import Images in 'test_images' "
   ]
  },
  {
   "cell_type": "code",
   "execution_count": 3,
   "metadata": {},
   "outputs": [
    {
     "name": "stdout",
     "output_type": "stream",
     "text": [
      "['solidWhiteCurve.jpg', 'solidWhiteRight.jpg', 'solidYellowCurve.jpg', 'solidYellowCurve2.jpg', 'solidYellowLeft.jpg', 'whiteCarLaneSwitch.jpg']\n",
      "whiteCarLaneSwitch.jpg\n",
      "This image is: <class 'numpy.ndarray'> with dimensions: (540, 960, 3)\n"
     ]
    }
   ],
   "source": [
    "import os\n",
    "img_files = os.listdir(\"test_images/\")\n",
    "print(img_files)\n",
    "\n",
    "current_image = img_files[5]\n",
    "print(current_image)\n",
    "#reading in an image\n",
    "image = mpimg.imread('test_images/'+ current_image)\n",
    "\n",
    "copied_image = image \n",
    "Y_pixels = copied_image.shape[0]\n",
    "X_pixels = copied_image.shape[1]\n",
    "print('This image is:', type(copied_image), 'with dimensions:', copied_image.shape)\n",
    "\n"
   ]
  },
  {
   "cell_type": "markdown",
   "metadata": {},
   "source": [
    "# Define Parameters for Image Processes"
   ]
  },
  {
   "cell_type": "code",
   "execution_count": 4,
   "metadata": {
    "collapsed": true
   },
   "outputs": [],
   "source": [
    "# Gaussian Blur\n",
    "kernel_size = 5\n",
    "\n",
    "# Canny Function\n",
    "low_threshold = 70\n",
    "high_threshold = 200\n",
    "\n",
    "# Masked area\n",
    "small_x = 5\n",
    "small_y = 47\n",
    "vertices = np.array([[(25,Y_pixels),(X_pixels/2-small_x, Y_pixels/2+small_y), (X_pixels/2+small_x, Y_pixels/2+small_y), (X_pixels,Y_pixels)]], dtype=np.int32)\n",
    "\n",
    "# Hough Function\n",
    "rho = 1           # distance resolution in pixels of the Hough grid\n",
    "theta = np.pi/180 # angular resolution in radians of the Hough grid\n",
    "threshold = 1     # minimum number of votes (intersections in Hough grid cell)\n",
    "min_line_len = 15 # minimum number of pixels making up a line\n",
    "max_line_gap = 20    # maximum gap in pixels between connectable line segments"
   ]
  },
  {
   "cell_type": "markdown",
   "metadata": {},
   "source": [
    "# Process Image and Save in 'test_images_output'"
   ]
  },
  {
   "cell_type": "code",
   "execution_count": null,
   "metadata": {},
   "outputs": [],
   "source": [
    "#plt.imshow(copied_image)  \n",
    "gray, edges, mask, H_image, lane_lines, lane_solid = process_all_image(copied_image)\n",
    "\n",
    "plt.imsave('test_images_output/'+ current_image, copied_image)\n",
    "plt.imsave('test_images_output/'+ current_image[:-4] +'_blurgray.jpg', gray, cmap='gray')\n",
    "plt.imsave('test_images_output/'+ current_image[:-4] +'_canny.jpg', edges)\n",
    "plt.imsave('test_images_output/'+ current_image[:-4] +'_mask.jpg', mask)\n",
    "plt.imsave('test_images_output/'+ current_image[:-4] +'_Hough.jpg', lane_lines)\n",
    "plt.imsave('test_images_output/'+ current_image[:-4] +'_Solid_Lanes.jpg', lane_solid)"
   ]
  },
  {
   "cell_type": "markdown",
   "metadata": {},
   "source": [
    "# Time for the Videos \n",
    "## White"
   ]
  },
  {
   "cell_type": "code",
   "execution_count": 5,
   "metadata": {
    "collapsed": true
   },
   "outputs": [],
   "source": [
    "# Import everything needed to edit/save/watch video clips\n",
    "from moviepy.editor import VideoFileClip\n",
    "from IPython.display import HTML"
   ]
  },
  {
   "cell_type": "code",
   "execution_count": null,
   "metadata": {},
   "outputs": [],
   "source": [
    "white_output = 'test_videos_output/solidWhiteRight.mp4'\n",
    "\n",
    "clip1 = VideoFileClip(\"test_videos/solidWhiteRight.mp4\")\n",
    "white_clip = clip1.fl_image(process_image) #NOTE: this function expects color images!!\n",
    "%time white_clip.write_videofile(white_output, audio=False)"
   ]
  },
  {
   "cell_type": "code",
   "execution_count": null,
   "metadata": {
    "collapsed": true
   },
   "outputs": [],
   "source": [
    "HTML(\"\"\"\n",
    "<video width=\"960\" height=\"540\" controls>\n",
    "  <source src=\"{0}\">\n",
    "</video>\n",
    "\"\"\".format(white_output))"
   ]
  },
  {
   "cell_type": "markdown",
   "metadata": {},
   "source": [
    "## Yellow"
   ]
  },
  {
   "cell_type": "code",
   "execution_count": 6,
   "metadata": {},
   "outputs": [
    {
     "name": "stdout",
     "output_type": "stream",
     "text": [
      "[MoviePy] >>>> Building video test_videos_output/solidYellowLeft.mp4\n",
      "[MoviePy] Writing video test_videos_output/solidYellowLeft.mp4\n"
     ]
    },
    {
     "name": "stderr",
     "output_type": "stream",
     "text": [
      "100%|███████████████████████████████████████████████████████████████████████████████▉| 681/682 [00:17<00:00, 39.05it/s]\n"
     ]
    },
    {
     "name": "stdout",
     "output_type": "stream",
     "text": [
      "[MoviePy] Done.\n",
      "[MoviePy] >>>> Video ready: test_videos_output/solidYellowLeft.mp4 \n",
      "\n",
      "Wall time: 18.1 s\n"
     ]
    }
   ],
   "source": [
    "yellow_output = 'test_videos_output/solidYellowLeft.mp4'\n",
    "## To speed up the testing process you may want to try your pipeline on a shorter subclip of the video\n",
    "## To do so add .subclip(start_second,end_second) to the end of the line below\n",
    "## Where start_second and end_second are integer values representing the start and end of the subclip\n",
    "## You may also uncomment the following line for a subclip of the first 5 seconds\n",
    "# clip2 = VideoFileClip('test_videos/solidYellowLeft.mp4').subclip(20,25)\n",
    "clip2 = VideoFileClip('test_videos/solidYellowLeft.mp4')\n",
    "yellow_clip = clip2.fl_image(process_image)\n",
    "%time yellow_clip.write_videofile(yellow_output, audio=False)"
   ]
  },
  {
   "cell_type": "code",
   "execution_count": null,
   "metadata": {
    "collapsed": true
   },
   "outputs": [],
   "source": [
    "HTML(\"\"\"\n",
    "<video width=\"960\" height=\"540\" controls>\n",
    "  <source src=\"{0}\">\n",
    "</video>\n",
    "\"\"\".format(yellow_output))"
   ]
  },
  {
   "cell_type": "markdown",
   "metadata": {},
   "source": [
    "## Challenge (not finished)"
   ]
  },
  {
   "cell_type": "code",
   "execution_count": null,
   "metadata": {},
   "outputs": [],
   "source": [
    "challenge_output = 'test_videos_output/challenge.mp4'\n",
    "## To speed up the testing process you may want to try your pipeline on a shorter subclip of the video\n",
    "## To do so add .subclip(start_second,end_second) to the end of the line below\n",
    "## Where start_second and end_second are integer values representing the start and end of the subclip\n",
    "## You may also uncomment the following line for a subclip of the first 5 seconds\n",
    "##clip3 = VideoFileClip('test_videos/challenge.mp4').subclip(0,5)\n",
    "clip3 = VideoFileClip('test_videos/challenge.mp4')\n",
    "challenge_clip = clip3.fl_image(process_image)\n",
    "%time challenge_clip.write_videofile(challenge_output, audio=False)"
   ]
  },
  {
   "cell_type": "code",
   "execution_count": null,
   "metadata": {
    "collapsed": true
   },
   "outputs": [],
   "source": [
    "HTML(\"\"\"\n",
    "<video width=\"960\" height=\"540\" controls>\n",
    "  <source src=\"{0}\">\n",
    "</video>\n",
    "\"\"\".format(challenge_output))"
   ]
  }
 ],
 "metadata": {
  "kernelspec": {
   "display_name": "Python 3",
   "language": "python",
   "name": "python3"
  },
  "language_info": {
   "codemirror_mode": {
    "name": "ipython",
    "version": 3
   },
   "file_extension": ".py",
   "mimetype": "text/x-python",
   "name": "python",
   "nbconvert_exporter": "python",
   "pygments_lexer": "ipython3",
   "version": "3.5.2"
  },
  "widgets": {
   "state": {},
   "version": "1.1.2"
  }
 },
 "nbformat": 4,
 "nbformat_minor": 2
}
